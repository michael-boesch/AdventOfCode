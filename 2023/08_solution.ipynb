{
 "cells": [
  {
   "cell_type": "markdown",
   "id": "8fbb7ecf-2851-49d5-901a-bf1a47aef45c",
   "metadata": {},
   "source": [
    "# Day 8"
   ]
  },
  {
   "cell_type": "markdown",
   "id": "25d9504f-c0b7-471b-a228-fb7c4f52b143",
   "metadata": {},
   "source": [
    "## Common"
   ]
  },
  {
   "cell_type": "code",
   "execution_count": 2,
   "id": "dd48df68-226a-4f0b-a47e-86eca951f54c",
   "metadata": {},
   "outputs": [],
   "source": [
    "import re\n",
    "\n",
    "def load(input_file):\n",
    "    with open(input_file) as f:\n",
    "        raw = f.read().split(\"\\n\")\n",
    "   \n",
    "    commands = [c for c in raw[0]]\n",
    "    directions = { re.findall('[A-Z0-9]{3}', r)[0]:\n",
    "                  (re.findall('[A-Z0-9]{3}', r)[1],\n",
    "                   re.findall('[A-Z0-9]{3}', r)[2]) for r in raw[2:]}\n",
    "    return (commands, directions)"
   ]
  },
  {
   "cell_type": "markdown",
   "id": "19e41519-2741-4710-bad8-4abf08298f2b",
   "metadata": {},
   "source": [
    "## Part 1"
   ]
  },
  {
   "cell_type": "raw",
   "id": "68a19631-80f5-46e8-8b79-64563bfa6c07",
   "metadata": {},
   "source": [
    "--- Day 8: Haunted Wasteland ---\n",
    "\n",
    "You're still riding a camel across Desert Island when you spot a sandstorm quickly approaching. When you turn to warn the Elf, she disappears before your eyes! To be fair, she had just finished warning you about ghosts a few minutes ago.\n",
    "\n",
    "One of the camel's pouches is labeled \"maps\" - sure enough, it's full of documents (your puzzle input) about how to navigate the desert. At least, you're pretty sure that's what they are; one of the documents contains a list of left/right instructions, and the rest of the documents seem to describe some kind of network of labeled nodes.\n",
    "\n",
    "It seems like you're meant to use the left/right instructions to navigate the network. Perhaps if you have the camel follow the same instructions, you can escape the haunted wasteland!\n",
    "\n",
    "After examining the maps for a bit, two nodes stick out: AAA and ZZZ. You feel like AAA is where you are now, and you have to follow the left/right instructions until you reach ZZZ.\n",
    "\n",
    "This format defines each node of the network individually. For example:\n",
    "\n",
    "RL\n",
    "\n",
    "AAA = (BBB, CCC)\n",
    "BBB = (DDD, EEE)\n",
    "CCC = (ZZZ, GGG)\n",
    "DDD = (DDD, DDD)\n",
    "EEE = (EEE, EEE)\n",
    "GGG = (GGG, GGG)\n",
    "ZZZ = (ZZZ, ZZZ)\n",
    "\n",
    "Starting with AAA, you need to look up the next element based on the next left/right instruction in your input. In this example, start with AAA and go right (R) by choosing the right element of AAA, CCC. Then, L means to choose the left element of CCC, ZZZ. By following the left/right instructions, you reach ZZZ in 2 steps.\n",
    "\n",
    "Of course, you might not find ZZZ right away. If you run out of left/right instructions, repeat the whole sequence of instructions as necessary: RL really means RLRLRLRLRLRLRLRL... and so on. For example, here is a situation that takes 6 steps to reach ZZZ:\n",
    "\n",
    "LLR\n",
    "\n",
    "AAA = (BBB, BBB)\n",
    "BBB = (AAA, ZZZ)\n",
    "ZZZ = (ZZZ, ZZZ)\n",
    "\n",
    "Starting at AAA, follow the left/right instructions. How many steps are required to reach ZZZ?\n"
   ]
  },
  {
   "cell_type": "code",
   "execution_count": 1,
   "id": "a4f56cd3-d765-411e-a860-13caa1b2ac48",
   "metadata": {},
   "outputs": [],
   "source": [
    "def part1(input_file):\n",
    "    cmds, dirs = load(input_file)\n",
    "    p = 'AAA'\n",
    "    i = 0\n",
    "    while not p == 'ZZZ':\n",
    "        cmd = cmds[i % len(cmds)]\n",
    "        p = dirs[p][0] if cmd=='L' else dirs[p][1]\n",
    "        i += 1\n",
    "    print(f'{i=}')"
   ]
  },
  {
   "cell_type": "code",
   "execution_count": 2,
   "id": "f17305d6-e369-4518-8af1-15f0fccc4eba",
   "metadata": {},
   "outputs": [
    {
     "name": "stdout",
     "output_type": "stream",
     "text": [
      "i=6\n"
     ]
    }
   ],
   "source": [
    "part1('08_test_part1.txt')"
   ]
  },
  {
   "cell_type": "code",
   "execution_count": 3,
   "id": "3094dacd-26fd-44cb-9bf6-a116706b339e",
   "metadata": {},
   "outputs": [
    {
     "name": "stdout",
     "output_type": "stream",
     "text": [
      "i=19783\n"
     ]
    }
   ],
   "source": [
    "part1('08_input.txt')"
   ]
  },
  {
   "cell_type": "raw",
   "id": "5b3df440-f145-4ac0-a05e-926ff29ec24b",
   "metadata": {},
   "source": [
    "Your puzzle answer was 19783."
   ]
  },
  {
   "cell_type": "markdown",
   "id": "9ce4142d-7041-4395-b246-8d202686a362",
   "metadata": {},
   "source": [
    "## Part 2"
   ]
  },
  {
   "cell_type": "raw",
   "id": "c3f5fc6c-fa60-4cc7-8e88-0d669aaea4e5",
   "metadata": {},
   "source": [
    "--- Part Two ---\n",
    "\n",
    "The sandstorm is upon you and you aren't any closer to escaping the wasteland. You had the camel follow the instructions, but you've barely left your starting position. It's going to take significantly more steps to escape!\n",
    "\n",
    "What if the map isn't for people - what if the map is for ghosts? Are ghosts even bound by the laws of spacetime? Only one way to find out.\n",
    "\n",
    "After examining the maps a bit longer, your attention is drawn to a curious fact: the number of nodes with names ending in A is equal to the number ending in Z! If you were a ghost, you'd probably just start at every node that ends with A and follow all of the paths at the same time until they all simultaneously end up at nodes that end with Z.\n",
    "\n",
    "For example:\n",
    "\n",
    "LR\n",
    "\n",
    "11A = (11B, XXX)\n",
    "11B = (XXX, 11Z)\n",
    "11Z = (11B, XXX)\n",
    "22A = (22B, XXX)\n",
    "22B = (22C, 22C)\n",
    "22C = (22Z, 22Z)\n",
    "22Z = (22B, 22B)\n",
    "XXX = (XXX, XXX)\n",
    "\n",
    "Here, there are two starting nodes, 11A and 22A (because they both end with A). As you follow each left/right instruction, use that instruction to simultaneously navigate away from both nodes you're currently on. Repeat this process until all of the nodes you're currently on end with Z. (If only some of the nodes you're on end with Z, they act like any other node and you continue as normal.) In this example, you would proceed as follows:\n",
    "\n",
    "    Step 0: You are at 11A and 22A.\n",
    "    Step 1: You choose all of the left paths, leading you to 11B and 22B.\n",
    "    Step 2: You choose all of the right paths, leading you to 11Z and 22C.\n",
    "    Step 3: You choose all of the left paths, leading you to 11B and 22Z.\n",
    "    Step 4: You choose all of the right paths, leading you to 11Z and 22B.\n",
    "    Step 5: You choose all of the left paths, leading you to 11B and 22C.\n",
    "    Step 6: You choose all of the right paths, leading you to 11Z and 22Z.\n",
    "\n",
    "So, in this example, you end up entirely on nodes that end in Z after 6 steps.\n",
    "\n",
    "Simultaneously start on every node that ends with A. How many steps does it take before you're only on nodes that end with Z?"
   ]
  },
  {
   "cell_type": "code",
   "execution_count": 4,
   "id": "dfb71dd4-68a7-496c-9ec5-cb2b94c3cf73",
   "metadata": {},
   "outputs": [],
   "source": [
    "def part2(input_file):\n",
    "    cmds, dirs = load(input_file)\n",
    "    ps = [ key for key in list(dirs.keys()) if key[2]=='A' ] # positions\n",
    "    i = 0\n",
    "    while not all([p[2]=='Z' for p in ps]):\n",
    "        cmd = cmds[i % len(cmds)]\n",
    "        ps = [dirs[p][0] if cmd=='L' else dirs[p][1] for p in ps]\n",
    "        i += 1\n",
    "    print(f'{i=}')"
   ]
  },
  {
   "cell_type": "code",
   "execution_count": 5,
   "id": "0b370e86-d37c-4fea-abec-c5d468c5edff",
   "metadata": {},
   "outputs": [
    {
     "name": "stdout",
     "output_type": "stream",
     "text": [
      "i=6\n"
     ]
    }
   ],
   "source": [
    "part2('08_test_part2.txt')"
   ]
  },
  {
   "cell_type": "code",
   "execution_count": null,
   "id": "cdc98cc8-f64c-4cba-b17f-0ddee96915a0",
   "metadata": {},
   "outputs": [],
   "source": [
    "# part2('08_input.txt') this does not work for some reason"
   ]
  },
  {
   "cell_type": "markdown",
   "id": "01daacde-5bcd-4ba5-9b27-547c0a4d9969",
   "metadata": {},
   "source": [
    "## Part 2, ernsthaft jetzt (seriously now)"
   ]
  },
  {
   "cell_type": "code",
   "execution_count": 3,
   "id": "3d5b1ad8-f4e5-4141-827a-7a7693ee3f5a",
   "metadata": {},
   "outputs": [
    {
     "name": "stdout",
     "output_type": "stream",
     "text": [
      "[11653 11653 11653 11653 11653 11653 11653]\n",
      "[19783 19783 19783 19783]\n",
      "[19241 19241 19241 19241]\n",
      "[16531 16531 16531 16531]\n",
      "[12737 12737 12737 12737 12737 12737]\n",
      "[14363 14363 14363 14363 14363]\n"
     ]
    }
   ],
   "source": [
    "cmds, dirs = load(\"08_input.txt\")\n",
    "ps = [ key for key in list(dirs.keys()) if key[2]=='A' ] # positions\n",
    "i = 0\n",
    "\n",
    "i_where_z = []\n",
    "for _ in ps:\n",
    "    i_where_z.append([])\n",
    "\n",
    "while not all([len(a)>4 for a in i_where_z]):\n",
    "    cmd = cmds[i % len(cmds)]\n",
    "    ps = [dirs[p][0] if cmd=='L' else dirs[p][1] for p in ps]\n",
    "    for j, p_ in enumerate(ps):\n",
    "        if p_[2]=='Z':\n",
    "            i_where_z[j].append(i)\n",
    "    i += 1\n",
    "    \n",
    "import numpy as np\n",
    "for aa in i_where_z:\n",
    "    print(np.diff(np.array(aa)))"
   ]
  },
  {
   "attachments": {
    "767d1ead-18b2-42aa-9eb3-ace353256815.png": {
     "image/png": "[encoded data removed]"
    }
   },
   "cell_type": "markdown",
   "id": "c804bd31-ce9a-4243-8a10-fb2f331fe4ad",
   "metadata": {},
   "source": [
    "Periodizitäten treten auf --> kleinestes gemeinsames Vielfaches finden\n",
    "\n",
    "https://de.wikipedia.org/wiki/Kleinstes_gemeinsames_Vielfaches\n",
    "\n",
    "![image.png](attachment:767d1ead-18b2-42aa-9eb3-ace353256815.png)\n",
    "\n",
    "Algo für Primfaktorzerlegung:\n",
    "\n",
    "https://stackoverflow.com/questions/15347174/python-finding-prime-factors"
   ]
  },
  {
   "cell_type": "code",
   "execution_count": 4,
   "id": "d993458b-e9f9-461a-a572-4061fc0275c2",
   "metadata": {},
   "outputs": [],
   "source": [
    "def prime_factors(n):\n",
    "    i = 2\n",
    "    factors = []\n",
    "    while i * i <= n:\n",
    "        if n % i:\n",
    "            i += 1\n",
    "        else:\n",
    "            n //= i\n",
    "            factors.append(i)\n",
    "    if n > 1:\n",
    "        factors.append(n)\n",
    "    return factors"
   ]
  },
  {
   "cell_type": "code",
   "execution_count": 10,
   "id": "0e579af4-38b7-4dac-b80d-c4ac5b5858fc",
   "metadata": {},
   "outputs": [
    {
     "data": {
      "text/plain": [
       "[11653, 19783, 19241, 16531, 12737, 14363]"
      ]
     },
     "execution_count": 10,
     "metadata": {},
     "output_type": "execute_result"
    }
   ],
   "source": [
    "tmp = [list(np.diff(np.array(aa))) for aa in i_where_z]\n",
    "periods = [tmp_[0] for tmp_ in tmp]\n",
    "periods"
   ]
  },
  {
   "cell_type": "code",
   "execution_count": 16,
   "id": "5b883221-03e1-4e53-b8e0-1aa3216c747f",
   "metadata": {},
   "outputs": [
    {
     "name": "stdout",
     "output_type": "stream",
     "text": [
      "[43, 271]\n",
      "[73, 271]\n",
      "[71, 271]\n",
      "[61, 271]\n",
      "[47, 271]\n",
      "[53, 271]\n",
      "{71, 73, 43, 271, 47, 53, 61}\n"
     ]
    }
   ],
   "source": [
    "all_factors = []\n",
    "for period in periods:\n",
    "    print(prime_factors(period))\n",
    "    all_factors += prime_factors(period)\n",
    "\n",
    "all_factors = set(all_factors)\n",
    "print(all_factors)"
   ]
  },
  {
   "cell_type": "code",
   "execution_count": 17,
   "id": "10d54933-31a8-41cc-b58d-5a8b04c27c1b",
   "metadata": {},
   "outputs": [
    {
     "data": {
      "text/plain": [
       "9177460370549"
      ]
     },
     "execution_count": 17,
     "metadata": {},
     "output_type": "execute_result"
    }
   ],
   "source": [
    "from functools import reduce\n",
    "reduce(lambda x,y: x*y, all_factors)"
   ]
  },
  {
   "cell_type": "raw",
   "id": "e6a03adb-0d84-4d6a-ace2-4945c34e93a6",
   "metadata": {},
   "source": [
    "Your puzzle answer was 9177460370549.\n",
    "\n",
    "Both parts of this puzzle are complete! They provide two gold stars: **"
   ]
  },
  {
   "cell_type": "code",
   "execution_count": null,
   "id": "9d484730-9cfe-4323-b4b6-670f32d23af2",
   "metadata": {},
   "outputs": [],
   "source": []
  }
 ],
 "metadata": {
  "kernelspec": {
   "display_name": "Python 3 (ipykernel)",
   "language": "python",
   "name": "python3"
  },
  "language_info": {
   "codemirror_mode": {
    "name": "ipython",
    "version": 3
   },
   "file_extension": ".py",
   "mimetype": "text/x-python",
   "name": "python",
   "nbconvert_exporter": "python",
   "pygments_lexer": "ipython3",
   "version": "3.11.6"
  }
 },
 "nbformat": 4,
 "nbformat_minor": 5
}
